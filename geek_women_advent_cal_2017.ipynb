{
 "cells": [
  {
   "cell_type": "markdown",
   "metadata": {},
   "source": [
    "# Pythonを使ったビンゴカードとビンゴ抽選器作り\n",
    "## Pythonのデータ系ライブラリ NumPy, pandasの紹介"
   ]
  },
  {
   "cell_type": "markdown",
   "metadata": {},
   "source": [
    "遅くなりましたが、このnotebookは[Geek Women Advent Calendar 2017](https://qiita.com/advent-calendar/2017/geekwomenjapan) 17日目の投稿です。    \n",
    "16日目はkomo_frさんの[GitHubでmatplotlibにstarをつけている人が、他にどんなリポジトリに注目しているか調べてみる](https://github.com/komo-fr/AdventCalender/blob/master/2017/GeekWomenJapanAdventCalendar2017_day16.ipynb)でした。"
   ]
  },
  {
   "cell_type": "markdown",
   "metadata": {},
   "source": [
    "## 背景\n",
    "\n",
    "先日、事務系の方にPythonの使い方を教える機会がありました。事務系と言えば、Excelだよね？ということで、Pythonのデータ分析によく使われるライブラリ、NumPy、pandasを紹介しつつ、Excelに出力するコード例を作りました。ここではそのコードを一部改変してご紹介します。"
   ]
  },
  {
   "cell_type": "markdown",
   "metadata": {},
   "source": [
    "## ビンゴカードを作る\n",
    "\n",
    "一般的なビンゴカードってどんなものだっけ？と思って調べたところ、こういう配置になっているようです。\n",
    "\n",
    "|列名|B |I |N | G| O|\n",
    "|--|--|--|--|--|--|\n",
    "|値の範囲|1-15 |16-30 |31-45 |46-60 |61-75|\n",
    "\n",
    "このルールに従ってカードを作っていきます。手順は以下の通りです。   \n",
    "\n",
    "### 手順\n",
    "1. ビンゴカード用数値セットを作成する\n",
    "2. ビンゴカード風の体裁に整える"
   ]
  },
  {
   "cell_type": "markdown",
   "metadata": {},
   "source": [
    "### 1. ビンゴカード用数値セットを作成する - Numpy活用例"
   ]
  },
  {
   "cell_type": "markdown",
   "metadata": {},
   "source": [
    "ビンゴカードを作成します。ビンゴカード用の数値セットはNumpyを使って作ります。   \n",
    "[NumPy](numpy.org)    \n",
    "    \n",
    "手順は以下の通りです。"
   ]
  },
  {
   "cell_type": "markdown",
   "metadata": {},
   "source": [
    "#### Numpy のインポート"
   ]
  },
  {
   "cell_type": "code",
   "execution_count": 1,
   "metadata": {
    "collapsed": true
   },
   "outputs": [],
   "source": [
    "import numpy as np # numpyをインポートし、npという名前で利用します"
   ]
  },
  {
   "cell_type": "markdown",
   "metadata": {},
   "source": [
    "#### 整数列の作成\n",
    "NumPyを使って整数列を作成します。   "
   ]
  },
  {
   "cell_type": "code",
   "execution_count": 2,
   "metadata": {},
   "outputs": [],
   "source": [
    "values_b = np.arange(1, 16)\n",
    "values_i = np.arange(16, 31)\n",
    "values_n = np.arange(31, 46)\n",
    "values_g = np.arange(46, 61)\n",
    "values_o = np.arange(61, 76)"
   ]
  },
  {
   "cell_type": "markdown",
   "metadata": {},
   "source": [
    "上から順にb, i, n, g, o列用の数列になります。中身を確認してみましょう。"
   ]
  },
  {
   "cell_type": "code",
   "execution_count": 3,
   "metadata": {},
   "outputs": [
    {
     "data": {
      "text/plain": [
       "(array([ 1,  2,  3,  4,  5,  6,  7,  8,  9, 10, 11, 12, 13, 14, 15]),\n",
       " array([16, 17, 18, 19, 20, 21, 22, 23, 24, 25, 26, 27, 28, 29, 30]),\n",
       " array([31, 32, 33, 34, 35, 36, 37, 38, 39, 40, 41, 42, 43, 44, 45]),\n",
       " array([46, 47, 48, 49, 50, 51, 52, 53, 54, 55, 56, 57, 58, 59, 60]),\n",
       " array([61, 62, 63, 64, 65, 66, 67, 68, 69, 70, 71, 72, 73, 74, 75]))"
      ]
     },
     "execution_count": 3,
     "metadata": {},
     "output_type": "execute_result"
    }
   ],
   "source": [
    "values_b, values_i, values_n, values_g, values_o"
   ]
  },
  {
   "cell_type": "markdown",
   "metadata": {},
   "source": [
    "それぞれの列用の整数列が作成されています。"
   ]
  },
  {
   "cell_type": "markdown",
   "metadata": {},
   "source": [
    "#### 整数列リストから値をランダムに選択"
   ]
  },
  {
   "cell_type": "markdown",
   "metadata": {},
   "source": [
    "ビンゴカードなので、各整数列から5つずつ値をランダムに取り出した数値セットの作成が必要です。NumPyの関数 `numpy.random.choice` を使用します。ビンゴカードの仕様として重複不可のため、`replace=False` を設定して、各整数列から5つずつ値を取り出します。"
   ]
  },
  {
   "cell_type": "code",
   "execution_count": 4,
   "metadata": {
    "collapsed": true
   },
   "outputs": [],
   "source": [
    "selected_b = np.random.choice(values_b, 5, replace=False)\n",
    "selected_i = np.random.choice(values_i, 5, replace=False)\n",
    "selected_n = np.random.choice(values_n, 5, replace=False)\n",
    "selected_g = np.random.choice(values_g, 5, replace=False)\n",
    "selected_o = np.random.choice(values_o, 5, replace=False)"
   ]
  },
  {
   "cell_type": "markdown",
   "metadata": {},
   "source": [
    "取り出した値を確認します。"
   ]
  },
  {
   "cell_type": "code",
   "execution_count": 5,
   "metadata": {},
   "outputs": [
    {
     "data": {
      "text/plain": [
       "(array([ 7,  1,  6,  4, 11]),\n",
       " array([21, 23, 19, 28, 22]),\n",
       " array([41, 39, 34, 33, 37]),\n",
       " array([57, 51, 55, 50, 48]),\n",
       " array([71, 65, 72, 61, 68]))"
      ]
     },
     "execution_count": 5,
     "metadata": {},
     "output_type": "execute_result"
    }
   ],
   "source": [
    "selected_b, selected_i, selected_n, selected_g, selected_o"
   ]
  },
  {
   "cell_type": "markdown",
   "metadata": {},
   "source": [
    "各列について、5つずつ値が抽出されました。"
   ]
  },
  {
   "cell_type": "markdown",
   "metadata": {},
   "source": [
    "#### 値をひとつのリストにまとめる"
   ]
  },
  {
   "cell_type": "markdown",
   "metadata": {},
   "source": [
    "列ごとに5つの値を取り出したので、1つにまとめます。のちのちの作業のため、NumPyのarrayとしてまとめます。"
   ]
  },
  {
   "cell_type": "code",
   "execution_count": 6,
   "metadata": {
    "collapsed": true
   },
   "outputs": [],
   "source": [
    "selected_all = np.array([selected_b, selected_i, selected_n,\n",
    "                selected_g, selected_o])"
   ]
  },
  {
   "cell_type": "code",
   "execution_count": 7,
   "metadata": {},
   "outputs": [
    {
     "data": {
      "text/plain": [
       "array([[ 7,  1,  6,  4, 11],\n",
       "       [21, 23, 19, 28, 22],\n",
       "       [41, 39, 34, 33, 37],\n",
       "       [57, 51, 55, 50, 48],\n",
       "       [71, 65, 72, 61, 68]])"
      ]
     },
     "execution_count": 7,
     "metadata": {},
     "output_type": "execute_result"
    }
   ],
   "source": [
    "selected_all"
   ]
  },
  {
   "cell_type": "markdown",
   "metadata": {},
   "source": [
    "selected_allにNumPy array型で数値が格納されました。"
   ]
  },
  {
   "cell_type": "markdown",
   "metadata": {},
   "source": [
    "#### 行列を転置する"
   ]
  },
  {
   "cell_type": "markdown",
   "metadata": {},
   "source": [
    "各列につき、5つの値を取り出して `selected_all` という変数にまとめましたが、このままでは正しいビンゴカードはできません。縦に並ぶべき数値が横に並んでいるからです。ここでもNumPyの出番です。数値の行と列を入れ替えます。NumPyを使うと`.T`をつけるだけで、行列の転置がおこなえます。"
   ]
  },
  {
   "cell_type": "code",
   "execution_count": 8,
   "metadata": {
    "collapsed": true
   },
   "outputs": [],
   "source": [
    "# 行列を転地\n",
    "selected_all_t = selected_all.T"
   ]
  },
  {
   "cell_type": "code",
   "execution_count": 9,
   "metadata": {},
   "outputs": [
    {
     "data": {
      "text/plain": [
       "array([[ 7, 21, 41, 57, 71],\n",
       "       [ 1, 23, 39, 51, 65],\n",
       "       [ 6, 19, 34, 55, 72],\n",
       "       [ 4, 28, 33, 50, 61],\n",
       "       [11, 22, 37, 48, 68]])"
      ]
     },
     "execution_count": 9,
     "metadata": {},
     "output_type": "execute_result"
    }
   ],
   "source": [
    "selected_all_t"
   ]
  },
  {
   "cell_type": "markdown",
   "metadata": {},
   "source": [
    "数値の行列が転置されましたね。これでビンゴカード用の数値セットの完成です。"
   ]
  },
  {
   "cell_type": "markdown",
   "metadata": {},
   "source": [
    "### 2. ビンゴカード風の体裁に整える - pandas活用例"
   ]
  },
  {
   "cell_type": "markdown",
   "metadata": {},
   "source": [
    "ここではpandasを使って作成した数値セットをビンゴカード風の体裁に整えていきます。"
   ]
  },
  {
   "cell_type": "markdown",
   "metadata": {},
   "source": [
    "#### pandasのDataFrameに格納する\n",
    "\n",
    "まず数値をpandasのDataFrameに格納します。"
   ]
  },
  {
   "cell_type": "code",
   "execution_count": 10,
   "metadata": {
    "collapsed": true
   },
   "outputs": [],
   "source": [
    "import pandas as pd # pandasをインポートし、pdという名前で利用します"
   ]
  },
  {
   "cell_type": "code",
   "execution_count": 11,
   "metadata": {
    "collapsed": true
   },
   "outputs": [],
   "source": [
    "df = pd.DataFrame(selected_all_t)"
   ]
  },
  {
   "cell_type": "code",
   "execution_count": 12,
   "metadata": {},
   "outputs": [
    {
     "data": {
      "text/html": [
       "<div>\n",
       "<style>\n",
       "    .dataframe thead tr:only-child th {\n",
       "        text-align: right;\n",
       "    }\n",
       "\n",
       "    .dataframe thead th {\n",
       "        text-align: left;\n",
       "    }\n",
       "\n",
       "    .dataframe tbody tr th {\n",
       "        vertical-align: top;\n",
       "    }\n",
       "</style>\n",
       "<table border=\"1\" class=\"dataframe\">\n",
       "  <thead>\n",
       "    <tr style=\"text-align: right;\">\n",
       "      <th></th>\n",
       "      <th>0</th>\n",
       "      <th>1</th>\n",
       "      <th>2</th>\n",
       "      <th>3</th>\n",
       "      <th>4</th>\n",
       "    </tr>\n",
       "  </thead>\n",
       "  <tbody>\n",
       "    <tr>\n",
       "      <th>0</th>\n",
       "      <td>7</td>\n",
       "      <td>21</td>\n",
       "      <td>41</td>\n",
       "      <td>57</td>\n",
       "      <td>71</td>\n",
       "    </tr>\n",
       "    <tr>\n",
       "      <th>1</th>\n",
       "      <td>1</td>\n",
       "      <td>23</td>\n",
       "      <td>39</td>\n",
       "      <td>51</td>\n",
       "      <td>65</td>\n",
       "    </tr>\n",
       "    <tr>\n",
       "      <th>2</th>\n",
       "      <td>6</td>\n",
       "      <td>19</td>\n",
       "      <td>34</td>\n",
       "      <td>55</td>\n",
       "      <td>72</td>\n",
       "    </tr>\n",
       "    <tr>\n",
       "      <th>3</th>\n",
       "      <td>4</td>\n",
       "      <td>28</td>\n",
       "      <td>33</td>\n",
       "      <td>50</td>\n",
       "      <td>61</td>\n",
       "    </tr>\n",
       "    <tr>\n",
       "      <th>4</th>\n",
       "      <td>11</td>\n",
       "      <td>22</td>\n",
       "      <td>37</td>\n",
       "      <td>48</td>\n",
       "      <td>68</td>\n",
       "    </tr>\n",
       "  </tbody>\n",
       "</table>\n",
       "</div>"
      ],
      "text/plain": [
       "    0   1   2   3   4\n",
       "0   7  21  41  57  71\n",
       "1   1  23  39  51  65\n",
       "2   6  19  34  55  72\n",
       "3   4  28  33  50  61\n",
       "4  11  22  37  48  68"
      ]
     },
     "execution_count": 12,
     "metadata": {},
     "output_type": "execute_result"
    }
   ],
   "source": [
    "df"
   ]
  },
  {
   "cell_type": "markdown",
   "metadata": {},
   "source": [
    "先ほどの数列がデータフレームに格納されました。"
   ]
  },
  {
   "cell_type": "markdown",
   "metadata": {},
   "source": [
    "#### 行のインデックスを変更する\n",
    "上記のデータフレームのインデックス（行頭のラベル、ここでは0-4の数字）がゼロから始まっていますが、ビンゴカードは通常1から5のインデックスが振られているので、1から5に振り直します。"
   ]
  },
  {
   "cell_type": "code",
   "execution_count": 13,
   "metadata": {
    "collapsed": true
   },
   "outputs": [],
   "source": [
    "df.index=np.arange(1, 6)"
   ]
  },
  {
   "cell_type": "code",
   "execution_count": 14,
   "metadata": {},
   "outputs": [
    {
     "data": {
      "text/html": [
       "<div>\n",
       "<style>\n",
       "    .dataframe thead tr:only-child th {\n",
       "        text-align: right;\n",
       "    }\n",
       "\n",
       "    .dataframe thead th {\n",
       "        text-align: left;\n",
       "    }\n",
       "\n",
       "    .dataframe tbody tr th {\n",
       "        vertical-align: top;\n",
       "    }\n",
       "</style>\n",
       "<table border=\"1\" class=\"dataframe\">\n",
       "  <thead>\n",
       "    <tr style=\"text-align: right;\">\n",
       "      <th></th>\n",
       "      <th>0</th>\n",
       "      <th>1</th>\n",
       "      <th>2</th>\n",
       "      <th>3</th>\n",
       "      <th>4</th>\n",
       "    </tr>\n",
       "  </thead>\n",
       "  <tbody>\n",
       "    <tr>\n",
       "      <th>1</th>\n",
       "      <td>7</td>\n",
       "      <td>21</td>\n",
       "      <td>41</td>\n",
       "      <td>57</td>\n",
       "      <td>71</td>\n",
       "    </tr>\n",
       "    <tr>\n",
       "      <th>2</th>\n",
       "      <td>1</td>\n",
       "      <td>23</td>\n",
       "      <td>39</td>\n",
       "      <td>51</td>\n",
       "      <td>65</td>\n",
       "    </tr>\n",
       "    <tr>\n",
       "      <th>3</th>\n",
       "      <td>6</td>\n",
       "      <td>19</td>\n",
       "      <td>34</td>\n",
       "      <td>55</td>\n",
       "      <td>72</td>\n",
       "    </tr>\n",
       "    <tr>\n",
       "      <th>4</th>\n",
       "      <td>4</td>\n",
       "      <td>28</td>\n",
       "      <td>33</td>\n",
       "      <td>50</td>\n",
       "      <td>61</td>\n",
       "    </tr>\n",
       "    <tr>\n",
       "      <th>5</th>\n",
       "      <td>11</td>\n",
       "      <td>22</td>\n",
       "      <td>37</td>\n",
       "      <td>48</td>\n",
       "      <td>68</td>\n",
       "    </tr>\n",
       "  </tbody>\n",
       "</table>\n",
       "</div>"
      ],
      "text/plain": [
       "    0   1   2   3   4\n",
       "1   7  21  41  57  71\n",
       "2   1  23  39  51  65\n",
       "3   6  19  34  55  72\n",
       "4   4  28  33  50  61\n",
       "5  11  22  37  48  68"
      ]
     },
     "execution_count": 14,
     "metadata": {},
     "output_type": "execute_result"
    }
   ],
   "source": [
    "df"
   ]
  },
  {
   "cell_type": "markdown",
   "metadata": {},
   "source": [
    "インデックスが1～5に振り直されました。"
   ]
  },
  {
   "cell_type": "markdown",
   "metadata": {},
   "source": [
    "#### 列のインデックスを変更する\n",
    "BINGOカードの数列の上側、列名のところは通常「B」「I」「N」「G」「O」の文字が書かれているので、列名をB、I、N、G、Oに振り直します。"
   ]
  },
  {
   "cell_type": "code",
   "execution_count": 15,
   "metadata": {
    "collapsed": true
   },
   "outputs": [],
   "source": [
    "df.columns = list('BINGO')"
   ]
  },
  {
   "cell_type": "code",
   "execution_count": 16,
   "metadata": {},
   "outputs": [
    {
     "data": {
      "text/html": [
       "<div>\n",
       "<style>\n",
       "    .dataframe thead tr:only-child th {\n",
       "        text-align: right;\n",
       "    }\n",
       "\n",
       "    .dataframe thead th {\n",
       "        text-align: left;\n",
       "    }\n",
       "\n",
       "    .dataframe tbody tr th {\n",
       "        vertical-align: top;\n",
       "    }\n",
       "</style>\n",
       "<table border=\"1\" class=\"dataframe\">\n",
       "  <thead>\n",
       "    <tr style=\"text-align: right;\">\n",
       "      <th></th>\n",
       "      <th>B</th>\n",
       "      <th>I</th>\n",
       "      <th>N</th>\n",
       "      <th>G</th>\n",
       "      <th>O</th>\n",
       "    </tr>\n",
       "  </thead>\n",
       "  <tbody>\n",
       "    <tr>\n",
       "      <th>1</th>\n",
       "      <td>7</td>\n",
       "      <td>21</td>\n",
       "      <td>41</td>\n",
       "      <td>57</td>\n",
       "      <td>71</td>\n",
       "    </tr>\n",
       "    <tr>\n",
       "      <th>2</th>\n",
       "      <td>1</td>\n",
       "      <td>23</td>\n",
       "      <td>39</td>\n",
       "      <td>51</td>\n",
       "      <td>65</td>\n",
       "    </tr>\n",
       "    <tr>\n",
       "      <th>3</th>\n",
       "      <td>6</td>\n",
       "      <td>19</td>\n",
       "      <td>34</td>\n",
       "      <td>55</td>\n",
       "      <td>72</td>\n",
       "    </tr>\n",
       "    <tr>\n",
       "      <th>4</th>\n",
       "      <td>4</td>\n",
       "      <td>28</td>\n",
       "      <td>33</td>\n",
       "      <td>50</td>\n",
       "      <td>61</td>\n",
       "    </tr>\n",
       "    <tr>\n",
       "      <th>5</th>\n",
       "      <td>11</td>\n",
       "      <td>22</td>\n",
       "      <td>37</td>\n",
       "      <td>48</td>\n",
       "      <td>68</td>\n",
       "    </tr>\n",
       "  </tbody>\n",
       "</table>\n",
       "</div>"
      ],
      "text/plain": [
       "    B   I   N   G   O\n",
       "1   7  21  41  57  71\n",
       "2   1  23  39  51  65\n",
       "3   6  19  34  55  72\n",
       "4   4  28  33  50  61\n",
       "5  11  22  37  48  68"
      ]
     },
     "execution_count": 16,
     "metadata": {},
     "output_type": "execute_result"
    }
   ],
   "source": [
    "df"
   ]
  },
  {
   "cell_type": "markdown",
   "metadata": {},
   "source": [
    "列名がB、I、N、G、Oに変換されました。なお、 `list`はPythonの組み込み関数（正確にはミュータブルなシーケンス型）で、文字列（正確にはiterable）のリストを作ることができます。"
   ]
  },
  {
   "cell_type": "code",
   "execution_count": 17,
   "metadata": {},
   "outputs": [
    {
     "data": {
      "text/plain": [
       "['B', 'I', 'N', 'G', 'O']"
      ]
     },
     "execution_count": 17,
     "metadata": {},
     "output_type": "execute_result"
    }
   ],
   "source": [
    "list('BINGO')"
   ]
  },
  {
   "cell_type": "markdown",
   "metadata": {},
   "source": [
    "#### 中心の番号を文字列（'BINGO'）に置換\n",
    "ところで、ビンゴカードの中心は数字が入っていないですよね。通常は「BINGO」等、文字列が入っていて、最初からオープンしていい場所となっています。ここでも3行目（インデックスが3）、N列の数値を「BINGO」に置換します。pandasの`loc`を使うと、特定の位置が選択できます。"
   ]
  },
  {
   "cell_type": "code",
   "execution_count": 18,
   "metadata": {
    "collapsed": true
   },
   "outputs": [],
   "source": [
    "df.loc[3, 'N'] = 'BINGO'"
   ]
  },
  {
   "cell_type": "code",
   "execution_count": 19,
   "metadata": {},
   "outputs": [
    {
     "data": {
      "text/html": [
       "<div>\n",
       "<style>\n",
       "    .dataframe thead tr:only-child th {\n",
       "        text-align: right;\n",
       "    }\n",
       "\n",
       "    .dataframe thead th {\n",
       "        text-align: left;\n",
       "    }\n",
       "\n",
       "    .dataframe tbody tr th {\n",
       "        vertical-align: top;\n",
       "    }\n",
       "</style>\n",
       "<table border=\"1\" class=\"dataframe\">\n",
       "  <thead>\n",
       "    <tr style=\"text-align: right;\">\n",
       "      <th></th>\n",
       "      <th>B</th>\n",
       "      <th>I</th>\n",
       "      <th>N</th>\n",
       "      <th>G</th>\n",
       "      <th>O</th>\n",
       "    </tr>\n",
       "  </thead>\n",
       "  <tbody>\n",
       "    <tr>\n",
       "      <th>1</th>\n",
       "      <td>7</td>\n",
       "      <td>21</td>\n",
       "      <td>41</td>\n",
       "      <td>57</td>\n",
       "      <td>71</td>\n",
       "    </tr>\n",
       "    <tr>\n",
       "      <th>2</th>\n",
       "      <td>1</td>\n",
       "      <td>23</td>\n",
       "      <td>39</td>\n",
       "      <td>51</td>\n",
       "      <td>65</td>\n",
       "    </tr>\n",
       "    <tr>\n",
       "      <th>3</th>\n",
       "      <td>6</td>\n",
       "      <td>19</td>\n",
       "      <td>BINGO</td>\n",
       "      <td>55</td>\n",
       "      <td>72</td>\n",
       "    </tr>\n",
       "    <tr>\n",
       "      <th>4</th>\n",
       "      <td>4</td>\n",
       "      <td>28</td>\n",
       "      <td>33</td>\n",
       "      <td>50</td>\n",
       "      <td>61</td>\n",
       "    </tr>\n",
       "    <tr>\n",
       "      <th>5</th>\n",
       "      <td>11</td>\n",
       "      <td>22</td>\n",
       "      <td>37</td>\n",
       "      <td>48</td>\n",
       "      <td>68</td>\n",
       "    </tr>\n",
       "  </tbody>\n",
       "</table>\n",
       "</div>"
      ],
      "text/plain": [
       "    B   I      N   G   O\n",
       "1   7  21     41  57  71\n",
       "2   1  23     39  51  65\n",
       "3   6  19  BINGO  55  72\n",
       "4   4  28     33  50  61\n",
       "5  11  22     37  48  68"
      ]
     },
     "execution_count": 19,
     "metadata": {},
     "output_type": "execute_result"
    }
   ],
   "source": [
    "df"
   ]
  },
  {
   "cell_type": "markdown",
   "metadata": {},
   "source": [
    "中心（3行N列）が「BINGO」に書き換えられました。"
   ]
  },
  {
   "cell_type": "markdown",
   "metadata": {},
   "source": [
    "#### ファイルに出力する\n",
    "ビンゴカードの情報ができたので、ファイルに出力します。"
   ]
  },
  {
   "cell_type": "code",
   "execution_count": 20,
   "metadata": {
    "collapsed": true
   },
   "outputs": [],
   "source": [
    "# Excelに出力\n",
    "fname = 'bingo_card.xlsx'\n",
    "sname = 'bingo_card'\n",
    "df.to_excel(fname, sheet_name=sname)"
   ]
  },
  {
   "cell_type": "markdown",
   "metadata": {},
   "source": [
    "ここではExcelに出力しましたが、csvファイル等にも出力できます。    \n",
    "出力したExcelファイルを印刷すれば、オリジナルビンゴカードの完成です。   \n",
    "なお、もっと体裁を整えたい！と言う方は[OpenPyXL](https://openpyxl.readthedocs.io/en/default/)をご利用ください。   \n",
    "Excelのセルサイズやカラーさえｍ整えることができてしまう優れもの?です。        \n",
    "\n",
    "[OpenPyXL](https://openpyxl.readthedocs.io/en/default/)     \n",
    "[\\[Python\\] openpyxl で Excel を操作してみた！](http://note.crohaco.net/2017/python-openpyxl-excel/)"
   ]
  },
  {
   "cell_type": "markdown",
   "metadata": {},
   "source": [
    "# ビンゴ抽選機"
   ]
  },
  {
   "cell_type": "markdown",
   "metadata": {},
   "source": [
    "それでは続いてビンゴ抽選器を作っていきます。手順は以下の通りです。"
   ]
  },
  {
   "cell_type": "markdown",
   "metadata": {},
   "source": [
    "### 手順\n",
    "1. 1から75までの整数列を生成する\n",
    "2. 値をランダムに取り出す\n",
    "2. 選択済み番号リストを更新する"
   ]
  },
  {
   "cell_type": "markdown",
   "metadata": {},
   "source": [
    "### 1. 1から75までの整数列を生成する\n",
    "1から75までの整数列を作ります。"
   ]
  },
  {
   "cell_type": "code",
   "execution_count": 21,
   "metadata": {},
   "outputs": [],
   "source": [
    "values = list(range(1, 76))"
   ]
  },
  {
   "cell_type": "markdown",
   "metadata": {},
   "source": [
    "**ビンゴ開始後に上記セルを実行するとvaluesがリセットされてしまいます。一度生成したら、コメントアウト（行頭に # をつける）などして、再実行しないように注意しましょう**"
   ]
  },
  {
   "cell_type": "markdown",
   "metadata": {},
   "source": [
    "### 2. 値をランダムに取り出す"
   ]
  },
  {
   "cell_type": "markdown",
   "metadata": {},
   "source": [
    "生成したvaluesからランダムに値を1つとりだし、値を出力する関数を作成します。値を選択したら選択された値と選択された値リストを出力します。一度選択された値が再び選ばれたら、再実行を促します。"
   ]
  },
  {
   "cell_type": "code",
   "execution_count": 22,
   "metadata": {
    "collapsed": true
   },
   "outputs": [],
   "source": [
    "def bingo():\n",
    "    # valuesからランダムに値を一つ取り出す\n",
    "    v = np.random.choice(values, 1)\n",
    "\n",
    "    # 値を出力する\n",
    "    if '(' in str(v[0]): # 値が抽出済みの場合再実行を促す\n",
    "        print('【もう一度実行してください】')\n",
    "        print('選択された値は ', v[0], ' で、選択済みでした。')\n",
    "        print(values)\n",
    "        \n",
    "    else: # 抽出された値を出力する\n",
    "        print('【選択された値は (', v[0], ') です！】')\n",
    "        values[int(v[0]) - 1] = '({})'.format(str(v[0]))\n",
    "        print(values)"
   ]
  },
  {
   "cell_type": "markdown",
   "metadata": {},
   "source": [
    "作成した `bingo`関数を繰り返し実行すれば、ビンゴ抽選器になります！"
   ]
  },
  {
   "cell_type": "code",
   "execution_count": 23,
   "metadata": {},
   "outputs": [
    {
     "name": "stdout",
     "output_type": "stream",
     "text": [
      "【選択された値は ( 41 ) です！】\n",
      "[1, 2, 3, 4, 5, 6, 7, 8, 9, 10, 11, 12, 13, 14, 15, 16, 17, 18, 19, 20, 21, 22, 23, 24, 25, 26, 27, 28, 29, 30, 31, 32, 33, 34, 35, 36, 37, 38, 39, 40, '(41)', 42, 43, 44, 45, 46, 47, 48, 49, 50, 51, 52, 53, 54, 55, 56, 57, 58, 59, 60, 61, 62, 63, 64, 65, 66, 67, 68, 69, 70, 71, 72, 73, 74, 75]\n"
     ]
    }
   ],
   "source": [
    "#　ビンゴ抽選器\n",
    "bingo()"
   ]
  },
  {
   "cell_type": "markdown",
   "metadata": {},
   "source": [
    "以上、[Geek Women Advent Calendar 2017](https://qiita.com/advent-calendar/2017/geekwomenjapan) 17日目の投稿、「Pythonを使ったビンゴカードとビンゴ抽選器作り」でした。ぜひ忘年会のお供にご活用ください。プルリクもお待ちしています！   \n",
    "\n",
    "18日目は [@maaya8585](https://twitter.com/maaya8585) さんの[Azure Custom Vision Serviceはミッキーを判別できるのか](https://hotchpotchj37.wordpress.com/2017/12/18/azure-custom-vision-service%E3%81%AF%E3%83%9F%E3%83%83%E3%82%AD%E3%83%BC%E3%82%92%E5%88%A4%E5%88%A5%E3%81%A7%E3%81%8D%E3%82%8B%E3%81%AE%E3%81%8B/)です。  \n",
    "ミッキーの顔のモデルチェンジが行われているなんて、全然知りませんでした！   "
   ]
  }
 ],
 "metadata": {
  "kernelspec": {
   "display_name": "Python 3",
   "language": "python",
   "name": "python3"
  },
  "language_info": {
   "codemirror_mode": {
    "name": "ipython",
    "version": 3
   },
   "file_extension": ".py",
   "mimetype": "text/x-python",
   "name": "python",
   "nbconvert_exporter": "python",
   "pygments_lexer": "ipython3",
   "version": "3.6.1"
  }
 },
 "nbformat": 4,
 "nbformat_minor": 2
}
